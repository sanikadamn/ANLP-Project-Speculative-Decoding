{
 "cells": [
  {
   "cell_type": "code",
   "execution_count": 1,
   "metadata": {},
   "outputs": [],
   "source": [
    "import os\n",
    "if not os.path.exists(\"/scratch/sarthak\"):\n",
    "    os.makedirs(\"/scratch/sarthak\")\n",
    "\n",
    "os.environ[\"HF_HOME\"] = \"/scratch/sarthak/\""
   ]
  },
  {
   "cell_type": "code",
   "execution_count": 2,
   "metadata": {},
   "outputs": [],
   "source": [
    "from datasets import load_dataset"
   ]
  },
  {
   "cell_type": "code",
   "execution_count": 3,
   "metadata": {},
   "outputs": [],
   "source": [
    "import torch\n",
    "import torch.nn.functional as F\n",
    "# from transformers import T5ForConditionalGeneration, T5Tokenizer\n",
    "from transformers import AutoModelForSeq2SeqLM, AutoTokenizer\n",
    "from typing import List, Tuple, Optional\n",
    "import time\n",
    "import numpy as np\n",
    "from peft import LoraConfig, get_peft_model\n",
    "from tqdm import tqdm\n",
    "# set random seed\n",
    "torch.manual_seed(42)\n",
    "import torch.nn as nn"
   ]
  },
  {
   "cell_type": "code",
   "execution_count": 52,
   "metadata": {},
   "outputs": [],
   "source": [
    "class OnlineSpeculativeDecoder:\n",
    "    def __init__(\n",
    "        self,\n",
    "        target_model_name = \"t5-large\",\n",
    "        draft_model_name = \"t5-small\",\n",
    "        gamma = 7,\n",
    "        update_interval=4,\n",
    "        temperature = 1.0,\n",
    "    ):\n",
    "        self.gamma = gamma\n",
    "        self.update_interval = update_interval\n",
    "        self.last_update_time = time.time()\n",
    "\n",
    "        self.tokenizer = AutoTokenizer.from_pretrained(target_model_name)\n",
    "        self.target_model = AutoModelForSeq2SeqLM.from_pretrained(target_model_name, device_map=\"auto\")\n",
    "        self.temperature = temperature\n",
    "        self.run = 0\n",
    "\n",
    "\n",
    "        config = LoraConfig(\n",
    "            r = 16,\n",
    "            lora_alpha = 16,\n",
    "            target_modules = [\"q\", \"v\"],\n",
    "            lora_dropout = 0.5,\n",
    "            bias = \"lora_only\",\n",
    "            modules_to_save=[\"decode_head\"]\n",
    "        )\n",
    "        draft_model = AutoModelForSeq2SeqLM.from_pretrained(draft_model_name, device_map=\"auto\")\n",
    "\n",
    "        self.draft_model = get_peft_model(draft_model, config)\n",
    "\n",
    "\n",
    "        self.target_model.eval()\n",
    "        self.draft_model.eval()\n",
    "\n",
    "        self.replay_buffer = []\n",
    "        self.temp_buffer = [] \n",
    "\n",
    "        # Counter for iteration tracking\n",
    "        self.iteration_count = 0\n",
    "\n",
    "        self.padding_length = 128\n",
    "\n",
    "        self.acceptance_rate = []\n",
    "        self.losses = []\n",
    "\n",
    "        self.time_taken = []\n",
    "\n",
    "        self.optimizer = torch.optim.Adam(self.draft_model.parameters(), lr=1e-4)\n",
    "        self.loss = nn.CrossEntropyLoss()\n",
    "\n",
    "    def get_draft_logits(\n",
    "            self,\n",
    "            input_ids: torch.Tensor,\n",
    "            attention_mask: torch.Tensor,\n",
    "            decoder_input_ids: torch.Tensor,\n",
    "            gamma: int\n",
    "        ) -> Tuple[torch.Tensor, torch.Tensor]:\n",
    "        \"\"\"Get draft logits for gamma tokens\"\"\"\n",
    "        draft_tokens = []\n",
    "        draft_probs = []\n",
    "        current_decoder_ids = decoder_input_ids\n",
    "\n",
    "        # Generate gamma tokens from the draft model\n",
    "        for _ in range(gamma):\n",
    "            with torch.no_grad():\n",
    "                outputs = self.draft_model(\n",
    "                    input_ids=input_ids,\n",
    "                    attention_mask=attention_mask,\n",
    "                    decoder_input_ids=current_decoder_ids,\n",
    "                    return_dict=True\n",
    "                )\n",
    "                logits = outputs.logits[:, -1, :]  # Get logits for last position\n",
    "                probs = logits\n",
    "                # probs = F.softmax(logits, dim=-1)\n",
    "\n",
    "                # Sample token\n",
    "                token_id = torch.argmax(probs, dim=-1)\n",
    "                prob = probs.gather(-1, token_id.unsqueeze(-1)).squeeze(-1)\n",
    "\n",
    "                draft_tokens.append(token_id.item())\n",
    "                draft_probs.append(prob.item())\n",
    "\n",
    "                # Update decoder inputs for next iteration\n",
    "                current_decoder_ids = torch.cat(\n",
    "                    [current_decoder_ids, token_id.view(1, 1)],\n",
    "                    dim=1\n",
    "                )\n",
    "\n",
    "                if token_id.item() == self.tokenizer.eos_token_id:\n",
    "                    break\n",
    "\n",
    "        return draft_tokens, draft_probs, current_decoder_ids, outputs.logits\n",
    "\n",
    "    def get_target_probs(\n",
    "        self,\n",
    "        input_ids: torch.Tensor,\n",
    "        attention_mask: torch.Tensor,\n",
    "        decoder_input_ids: torch.Tensor,\n",
    "        draft_tokens: torch.Tensor\n",
    "    ) -> torch.Tensor:\n",
    "        \"\"\"Get target probabilities for the draft tokens in parallel.\"\"\"\n",
    "        with torch.no_grad():\n",
    "            # Add draft tokens to decoder input\n",
    "            full_decoder_ids = torch.cat([decoder_input_ids, draft_tokens.unsqueeze(0)], dim=1)\n",
    "\n",
    "            decoder_mask = torch.ones(full_decoder_ids.shape[1])\n",
    "            decoder_mask = decoder_mask.unsqueeze(0)\n",
    "\n",
    "            outputs = self.target_model(\n",
    "                input_ids=input_ids,\n",
    "                attention_mask=attention_mask,\n",
    "                decoder_input_ids=full_decoder_ids,\n",
    "                decoder_attention_mask=decoder_mask,\n",
    "                return_dict=True\n",
    "            )\n",
    "\n",
    "            # Get probabilities for positions before each draft token\n",
    "            logits = outputs.logits[:, -(len(draft_tokens) + 1):, :]\n",
    "            logits = logits.squeeze(0)\n",
    "            target_probs = F.softmax(logits, dim=-1)\n",
    "\n",
    "\n",
    "            return target_probs.squeeze(0), logits, outputs.logits\n",
    "        \n",
    "    def get_logits(self, model, input_ids, attention_mask, decoder_input_ids):\n",
    "        return model(\n",
    "            input_ids=input_ids,\n",
    "            decoder_input_ids=decoder_input_ids,\n",
    "            attention_mask=attention_mask,\n",
    "        ).logits\n",
    "\n",
    "    def verify_tokens(\n",
    "        self,\n",
    "        target_probs: torch.Tensor,\n",
    "        draft_tokens: torch.Tensor,\n",
    "        draft_probs: torch.Tensor,\n",
    "    ) -> int:\n",
    "        \"\"\"Determine number of accepted tokens\"\"\"\n",
    "        # Get target probabilities for the draft tokens\n",
    "        # get the probabilities of the tokens at the indices of the draft tokens\n",
    "        target_probs_draft_tokens = torch.gather(target_probs, 1, draft_tokens.unsqueeze(0))\n",
    "        # Calculate acceptance ratios\n",
    "        acceptance_ratios = target_probs_draft_tokens / draft_probs.clamp(min=1e-10)\n",
    "\n",
    "        # Sample uniform random numbers \n",
    "        random_nums = torch.rand_like(acceptance_ratios)\n",
    "        acceptance_mask = random_nums <= acceptance_ratios\n",
    "\n",
    "        num_accepted = (acceptance_mask.cumsum(dim=-1) == torch.arange(1, len(acceptance_ratios) + 1)).sum().item()\n",
    "\n",
    "        return num_accepted\n",
    "\n",
    "    def pad_to_2d(self, tensor_list, pad_token_id, max_len=None):\n",
    "        if not isinstance(tensor_list[0], torch.Tensor):\n",
    "            tensor_list = [torch.tensor(t).reshape(1, -1) for t in tensor_list]\n",
    "        if max_len is None:\n",
    "            max_len = max([t.shape[-1] for t in tensor_list])\n",
    "        assert max_len > 0\n",
    "\n",
    "        # Pad each tensor to the max length and stack them to form a 2D tensor\n",
    "        result = torch.cat(\n",
    "            [\n",
    "                torch.nn.functional.pad(\n",
    "                    tensor, (0, max_len - tensor.shape[-1]),\n",
    "                    value=pad_token_id\n",
    "                )\n",
    "                for tensor in tensor_list\n",
    "            ],\n",
    "            dim=0\n",
    "        )\n",
    "        return result\n",
    "        \n",
    "\n",
    "    def soft_cross_entropy(self, predicts, targets, padding_mask=None):\n",
    "        predict_log_prob = torch.nn.functional.log_softmax(predicts, dim=-1)\n",
    "        targets_prob = torch.nn.functional.softmax(targets, dim=-1)\n",
    "        entropy = -targets_prob * predict_log_prob\n",
    "        expand_mask = padding_mask.unsqueeze(-1).expand_as(entropy)\n",
    "        entropy.masked_fill_(expand_mask, 0)\n",
    "        mean_entropy = entropy.sum() / (~padding_mask).sum()\n",
    "        return mean_entropy\n",
    "\n",
    "    def translate_dataset(\n",
    "        self,\n",
    "        sentences: List[str],\n",
    "        max_length: int = 128\n",
    "    ) -> List[str]:\n",
    "        \"\"\"Translate dataset using online speculative decoding.\"\"\"\n",
    "\n",
    "        self.iteration_count = 0\n",
    "        self.replay_buffer = []\n",
    "\n",
    "        translated_data = []\n",
    "\n",
    "        for i in tqdm(range(len(sentences))):\n",
    "\n",
    "            start_time = time.time()\n",
    "\n",
    "            source_text = sentences[i]\n",
    "            accepted = 0\n",
    "            total_windows = 0\n",
    "\n",
    "            encoder_inputs = self.tokenizer(\n",
    "                f\"translate English to German: {source_text}\",\n",
    "                return_tensors=\"pt\",\n",
    "                padding=True\n",
    "            )\n",
    "\n",
    "            \n",
    "            decoder_input_ids = torch.tensor([[self.tokenizer.pad_token_id]])\n",
    "\n",
    "            output = self.target_model(\n",
    "                input_ids=encoder_inputs.input_ids,\n",
    "                attention_mask=encoder_inputs.attention_mask,\n",
    "                decoder_input_ids=decoder_input_ids,\n",
    "                return_dict=True\n",
    "            )\n",
    "\n",
    "            probs = output.logits[:, -1, :]\n",
    "                        \n",
    "            probs = F.softmax(probs / (self.temperature + 1e-13), dim=-1)\n",
    "            token_id = torch.multinomial(probs, num_samples=1)\n",
    "\n",
    "            decoder_input_ids = torch.tensor([[self.tokenizer.pad_token_id, token_id.item()]])\n",
    "            self.temp_buffer = []\n",
    "\n",
    "            while decoder_input_ids.shape[1] < max_length:\n",
    "\n",
    "                # Check for end of sequence\n",
    "                if decoder_input_ids[0][-1].item() == self.tokenizer.eos_token_id:\n",
    "                    break\n",
    "\n",
    "                total_windows += 1\n",
    "\n",
    "                # Get draft tokens autoregressively\n",
    "                # print(\"Encoder Inputs\", encoder_inputs.input_ids.shape)\n",
    "                draft_tokens, draft_probs, proposed_decoder_ids, draft_logits = self.get_draft_logits(\n",
    "                    encoder_inputs.input_ids,\n",
    "                    encoder_inputs.attention_mask,\n",
    "                    decoder_input_ids,\n",
    "                    self.gamma\n",
    "                )\n",
    "\n",
    "                draft_tokens = torch.tensor(draft_tokens)\n",
    "                draft_probs = torch.tensor(draft_probs)\n",
    "\n",
    "                draft_probs = F.softmax(draft_probs / (self.temperature + 1e-13), dim=-1)\n",
    "\n",
    "                if len(draft_tokens) == 0:\n",
    "                    break\n",
    "\n",
    "                # Get target probabilities in parallel\n",
    "                target_probs, target_logits, raw_target_logits = self.get_target_probs(\n",
    "                    encoder_inputs.input_ids,\n",
    "                    encoder_inputs.attention_mask,\n",
    "                    decoder_input_ids,\n",
    "                    draft_tokens\n",
    "                )\n",
    "\n",
    "                # print(\"Iteration\")\n",
    "\n",
    "                # Verify tokens\n",
    "                n_accepted = self.verify_tokens(target_probs, draft_tokens, draft_probs)\n",
    "\n",
    "                if n_accepted > 0:\n",
    "                    decoder_input_ids = torch.cat([\n",
    "                        decoder_input_ids,\n",
    "                        draft_tokens[:n_accepted].unsqueeze(0)\n",
    "                    ], dim=1)\n",
    "\n",
    "                n_rejected = len(draft_tokens) - n_accepted \n",
    "                accepted += n_accepted\n",
    "\n",
    "                # print(\"Rejected\", n_rejected)\n",
    "\n",
    "                with torch.no_grad():\n",
    "                    if n_rejected > 0:\n",
    "                        probs = target_logits[-n_rejected, :]\n",
    "                    else:\n",
    "                        probs = target_logits[-1, :]\n",
    "                    probs = F.softmax(probs / (self.temperature + 1e-13), dim=-1)\n",
    "                    token_id = torch.multinomial(probs, num_samples=1).unsqueeze(0)\n",
    "                    decoder_input_ids = torch.cat([decoder_input_ids, token_id], dim=1)\n",
    "                # rejected_tokens = draft_tokens[n_accepted]\n",
    "                if n_accepted < len(draft_tokens):\n",
    "\n",
    "                    self.temp_buffer.append((encoder_inputs, decoder_input_ids, raw_target_logits, n_accepted, len(draft_tokens)))\n",
    "            \n",
    "            end_time = time.time()\n",
    "            self.time_taken.append(end_time - start_time)\n",
    "\n",
    "            self.acceptance_rate.append(accepted / (total_windows * self.gamma))\n",
    "\n",
    "            self.replay_buffer.extend(self.temp_buffer)\n",
    "            self.iteration_count += 1\n",
    "\n",
    "            # decode the decoder input ids\n",
    "            translation = self.tokenizer.decode(\n",
    "                decoder_input_ids[0],\n",
    "                skip_special_tokens=True,\n",
    "                clean_up_tokenization_spaces=True\n",
    "            )\n",
    "\n",
    "            if self.iteration_count % self.update_interval == 0:\n",
    "                # self.update_draft_model()\n",
    "                self.draft_model.train()\n",
    "                \n",
    "                # finetune over collected tokens and logits\n",
    "\n",
    "                # x[0] is encoder input, x[1] is decoder input, x[2] is target logits, x[3] is n_accepted\n",
    "                encoder_input_ids = self.pad_to_2d([x[0].input_ids for x in self.replay_buffer], 0)\n",
    "                # shape is replay_buffer_size, max_length of the sentences\n",
    "\n",
    "                # pad attention mask with 0s to get the same shape\n",
    "                max_sentence_length = max([x[0].attention_mask[0].shape[0] for x in self.replay_buffer])\n",
    "                padded_attention_mask = []\n",
    "                for i in range(len(self.replay_buffer)):\n",
    "                    temp = torch.zeros(max_sentence_length, dtype=torch.bool)\n",
    "                    temp[:self.replay_buffer[i][0].attention_mask[0].shape[0]] = self.replay_buffer[i][0].attention_mask[0]\n",
    "                    padded_attention_mask.append(temp)\n",
    "\n",
    "                encoder_attention_mask = torch.stack(padded_attention_mask, dim=0)\n",
    "\n",
    "                decoder_input_ids = self.pad_to_2d([x[1] for x in self.replay_buffer], 0, self.padding_length)\n",
    "\n",
    "\n",
    "                target_logits = [x[2] for x in self.replay_buffer]\n",
    "                for i in range(len(target_logits)):\n",
    "                    temp = torch.zeros(1, 32128).repeat(self.padding_length - target_logits[i].shape[1], 1).unsqueeze(0)\n",
    "                    target_logits[i] = torch.cat([target_logits[i], temp], dim=1)\n",
    "\n",
    "                n_accepted_tokens = [x[3] for x in self.replay_buffer]\n",
    "                all_draft_tokens = [x[4] for x in self.replay_buffer]\n",
    "\n",
    "                # CUDA out of memory error\n",
    "                draft_logits = self.get_logits(self.draft_model, encoder_input_ids, encoder_attention_mask, decoder_input_ids).float()\n",
    "                # print(\"Draft: \\n\", draft_logits)\n",
    "\n",
    "                # need to get loss only using the wrong tokens\n",
    "                # TODO: check if we need to ignore the pad tokens in the mask\n",
    "                mask = torch.ones_like(decoder_input_ids, dtype=torch.bool)\n",
    "                # print(n_accepted_tokens)\n",
    "                for i in range(len(n_accepted_tokens)):\n",
    "                    mask[i, n_accepted_tokens[i]:all_draft_tokens[i]] = False\n",
    "                \n",
    "                # stack target logits\n",
    "                # target_logits = torch.stack(target_logits, dim=0)\n",
    "                # print(target_logits.shape)\n",
    "                # target_logits = torch.argmax(target_logits, dim=-1)\n",
    "                # print(target_logits.shape)\n",
    "\n",
    "                # print(draft_logits.shape)\n",
    "                # print(target_logits[0].shape)\n",
    "                target_logits = torch.stack(target_logits, dim=0)\n",
    "                target_logits = target_logits.squeeze(1)    \n",
    "                # print(\"Target: \\n\", target_logits)\n",
    "\n",
    "                loss = self.soft_cross_entropy(draft_logits, target_logits, mask)\n",
    "                print(loss)\n",
    "                self.losses.append(loss.item())\n",
    "                # print(draft_logits.shape)\n",
    "                # print(target_logits[0].shape)\n",
    "                # loss = self.loss(draft_logits.view(-1, 32128), target_logits[0].view(-1, 32128))\n",
    "                loss.backward()\n",
    "                self.optimizer.step()\n",
    "\n",
    "                self.optimizer.zero_grad()\n",
    "                self.draft_model.eval()\n",
    "\n",
    "                # print the number of accepted tokens\n",
    "                self.run += 1\n",
    "                print(f\"Iteration {self.iteration_count}: Accepted rate: {self.acceptance_rate[-1]}\")\n",
    "                print(f\"Run Number: {self.run}\\n\\n\")\n",
    "                \n",
    "\n",
    "                self.draft_model.eval()\n",
    "                self.replay_buffer = []\n",
    "                self.iteration_count = 0\n",
    "\n",
    "            translated_data.append(translation)\n",
    "        return translated_data"
   ]
  },
  {
   "cell_type": "markdown",
   "metadata": {},
   "source": [
    "## Dataset stuff"
   ]
  },
  {
   "cell_type": "code",
   "execution_count": 57,
   "metadata": {},
   "outputs": [],
   "source": [
    "dataset = load_dataset('wmt16', 'de-en', split='validation')"
   ]
  },
  {
   "cell_type": "code",
   "execution_count": 58,
   "metadata": {},
   "outputs": [],
   "source": [
    "# make a set of all the english sentences\n",
    "english_sentences = [x['translation']['en'] for x in dataset]\n"
   ]
  },
  {
   "cell_type": "code",
   "execution_count": 67,
   "metadata": {},
   "outputs": [],
   "source": [
    "text = english_sentences[4]"
   ]
  },
  {
   "cell_type": "code",
   "execution_count": 76,
   "metadata": {},
   "outputs": [],
   "source": [
    "# english_sentences = english_sentences[:120]\n",
    "# english_sentences = english_sentences + english_sentences\n",
    "english_sentences = []\n",
    "for _ in range(120):\n",
    "    english_sentences.append(text)"
   ]
  },
  {
   "cell_type": "code",
   "execution_count": 77,
   "metadata": {},
   "outputs": [
    {
     "name": "stderr",
     "output_type": "stream",
     "text": [
      "  3%|▎         | 4/120 [00:07<03:37,  1.87s/it]"
     ]
    },
    {
     "name": "stdout",
     "output_type": "stream",
     "text": [
      "tensor(1.6127, grad_fn=<DivBackward0>)\n",
      "Iteration 4: Accepted rate: 0.5714285714285714\n",
      "Run Number: 1\n",
      "\n",
      "\n"
     ]
    },
    {
     "name": "stderr",
     "output_type": "stream",
     "text": [
      "  6%|▌         | 7/120 [00:14<04:23,  2.33s/it]"
     ]
    },
    {
     "name": "stdout",
     "output_type": "stream",
     "text": [
      "tensor(2.1944, grad_fn=<DivBackward0>)\n"
     ]
    },
    {
     "name": "stderr",
     "output_type": "stream",
     "text": [
      "  7%|▋         | 8/120 [00:16<04:28,  2.40s/it]"
     ]
    },
    {
     "name": "stdout",
     "output_type": "stream",
     "text": [
      "Iteration 4: Accepted rate: 0.32653061224489793\n",
      "Run Number: 2\n",
      "\n",
      "\n"
     ]
    },
    {
     "name": "stderr",
     "output_type": "stream",
     "text": [
      " 10%|█         | 12/120 [00:22<03:09,  1.76s/it]"
     ]
    },
    {
     "name": "stdout",
     "output_type": "stream",
     "text": [
      "tensor(5.0862, grad_fn=<DivBackward0>)\n",
      "Iteration 4: Accepted rate: 0.6857142857142857\n",
      "Run Number: 3\n",
      "\n",
      "\n"
     ]
    },
    {
     "name": "stderr",
     "output_type": "stream",
     "text": [
      " 12%|█▎        | 15/120 [00:29<03:56,  2.25s/it]"
     ]
    },
    {
     "name": "stdout",
     "output_type": "stream",
     "text": [
      "tensor(4.4100, grad_fn=<DivBackward0>)\n",
      "Iteration 4: Accepted rate: 0.8214285714285714\n",
      "Run Number: 4\n",
      "\n",
      "\n"
     ]
    },
    {
     "name": "stderr",
     "output_type": "stream",
     "text": [
      " 17%|█▋        | 20/120 [00:37<02:49,  1.69s/it]"
     ]
    },
    {
     "name": "stdout",
     "output_type": "stream",
     "text": [
      "tensor(2.7881, grad_fn=<DivBackward0>)\n",
      "Iteration 4: Accepted rate: 0.6571428571428571\n",
      "Run Number: 5\n",
      "\n",
      "\n"
     ]
    },
    {
     "name": "stderr",
     "output_type": "stream",
     "text": [
      " 20%|██        | 24/120 [00:43<02:38,  1.65s/it]"
     ]
    },
    {
     "name": "stdout",
     "output_type": "stream",
     "text": [
      "tensor(3.1126, grad_fn=<DivBackward0>)\n",
      "Iteration 4: Accepted rate: 0.7428571428571429\n",
      "Run Number: 6\n",
      "\n",
      "\n"
     ]
    },
    {
     "name": "stderr",
     "output_type": "stream",
     "text": [
      " 23%|██▎       | 28/120 [00:51<03:01,  1.97s/it]"
     ]
    },
    {
     "name": "stdout",
     "output_type": "stream",
     "text": [
      "tensor(0.9144, grad_fn=<DivBackward0>)\n",
      "Iteration 4: Accepted rate: 0.6857142857142857\n",
      "Run Number: 7\n",
      "\n",
      "\n"
     ]
    },
    {
     "name": "stderr",
     "output_type": "stream",
     "text": [
      " 27%|██▋       | 32/120 [00:57<02:31,  1.73s/it]"
     ]
    },
    {
     "name": "stdout",
     "output_type": "stream",
     "text": [
      "tensor(2.7499, grad_fn=<DivBackward0>)\n",
      "Iteration 4: Accepted rate: 0.46938775510204084\n",
      "Run Number: 8\n",
      "\n",
      "\n"
     ]
    },
    {
     "name": "stderr",
     "output_type": "stream",
     "text": [
      " 30%|███       | 36/120 [01:03<02:10,  1.55s/it]"
     ]
    },
    {
     "name": "stdout",
     "output_type": "stream",
     "text": [
      "tensor(2.0812, grad_fn=<DivBackward0>)\n",
      "Iteration 4: Accepted rate: 0.8214285714285714\n",
      "Run Number: 9\n",
      "\n",
      "\n"
     ]
    },
    {
     "name": "stderr",
     "output_type": "stream",
     "text": [
      " 32%|███▎      | 39/120 [01:08<02:17,  1.70s/it]"
     ]
    },
    {
     "name": "stdout",
     "output_type": "stream",
     "text": [
      "tensor(1.8219, grad_fn=<DivBackward0>)\n"
     ]
    },
    {
     "name": "stderr",
     "output_type": "stream",
     "text": [
      " 33%|███▎      | 40/120 [01:11<02:38,  1.98s/it]"
     ]
    },
    {
     "name": "stdout",
     "output_type": "stream",
     "text": [
      "Iteration 4: Accepted rate: 0.4489795918367347\n",
      "Run Number: 10\n",
      "\n",
      "\n"
     ]
    },
    {
     "name": "stderr",
     "output_type": "stream",
     "text": [
      " 37%|███▋      | 44/120 [01:17<02:07,  1.68s/it]"
     ]
    },
    {
     "name": "stdout",
     "output_type": "stream",
     "text": [
      "tensor(1.2744, grad_fn=<DivBackward0>)\n",
      "Iteration 4: Accepted rate: 0.6571428571428571\n",
      "Run Number: 11\n",
      "\n",
      "\n"
     ]
    },
    {
     "name": "stderr",
     "output_type": "stream",
     "text": [
      " 40%|████      | 48/120 [01:22<01:36,  1.33s/it]"
     ]
    },
    {
     "name": "stdout",
     "output_type": "stream",
     "text": [
      "tensor(0.6904, grad_fn=<DivBackward0>)\n",
      "Iteration 4: Accepted rate: 0.8571428571428571\n",
      "Run Number: 12\n",
      "\n",
      "\n"
     ]
    },
    {
     "name": "stderr",
     "output_type": "stream",
     "text": [
      " 43%|████▎     | 52/120 [01:28<01:42,  1.50s/it]"
     ]
    },
    {
     "name": "stdout",
     "output_type": "stream",
     "text": [
      "tensor(3.2888, grad_fn=<DivBackward0>)\n",
      "Iteration 4: Accepted rate: 0.5714285714285714\n",
      "Run Number: 13\n",
      "\n",
      "\n"
     ]
    },
    {
     "name": "stderr",
     "output_type": "stream",
     "text": [
      " 46%|████▌     | 55/120 [01:35<02:07,  1.96s/it]"
     ]
    },
    {
     "name": "stdout",
     "output_type": "stream",
     "text": [
      "tensor(4.0931, grad_fn=<DivBackward0>)\n"
     ]
    },
    {
     "name": "stderr",
     "output_type": "stream",
     "text": [
      " 47%|████▋     | 56/120 [01:38<02:30,  2.35s/it]"
     ]
    },
    {
     "name": "stdout",
     "output_type": "stream",
     "text": [
      "Iteration 4: Accepted rate: 0.4126984126984127\n",
      "Run Number: 14\n",
      "\n",
      "\n"
     ]
    },
    {
     "name": "stderr",
     "output_type": "stream",
     "text": [
      " 50%|█████     | 60/120 [01:46<02:00,  2.01s/it]"
     ]
    },
    {
     "name": "stdout",
     "output_type": "stream",
     "text": [
      "tensor(4.6312, grad_fn=<DivBackward0>)\n",
      "Iteration 4: Accepted rate: 0.6\n",
      "Run Number: 15\n",
      "\n",
      "\n"
     ]
    },
    {
     "name": "stderr",
     "output_type": "stream",
     "text": [
      " 52%|█████▎    | 63/120 [01:52<01:57,  2.06s/it]"
     ]
    },
    {
     "name": "stdout",
     "output_type": "stream",
     "text": [
      "tensor(2.2413, grad_fn=<DivBackward0>)\n"
     ]
    },
    {
     "name": "stderr",
     "output_type": "stream",
     "text": [
      " 53%|█████▎    | 64/120 [01:54<01:50,  1.97s/it]"
     ]
    },
    {
     "name": "stdout",
     "output_type": "stream",
     "text": [
      "Iteration 4: Accepted rate: 0.8571428571428571\n",
      "Run Number: 16\n",
      "\n",
      "\n"
     ]
    },
    {
     "name": "stderr",
     "output_type": "stream",
     "text": [
      " 57%|█████▋    | 68/120 [01:59<01:18,  1.50s/it]"
     ]
    },
    {
     "name": "stdout",
     "output_type": "stream",
     "text": [
      "tensor(4.8495, grad_fn=<DivBackward0>)\n",
      "Iteration 4: Accepted rate: 0.8214285714285714\n",
      "Run Number: 17\n",
      "\n",
      "\n"
     ]
    },
    {
     "name": "stderr",
     "output_type": "stream",
     "text": [
      " 60%|██████    | 72/120 [02:05<01:10,  1.47s/it]"
     ]
    },
    {
     "name": "stdout",
     "output_type": "stream",
     "text": [
      "tensor(1.1746, grad_fn=<DivBackward0>)\n",
      "Iteration 4: Accepted rate: 0.6857142857142857\n",
      "Run Number: 18\n",
      "\n",
      "\n"
     ]
    },
    {
     "name": "stderr",
     "output_type": "stream",
     "text": [
      " 63%|██████▎   | 76/120 [02:12<01:14,  1.69s/it]"
     ]
    },
    {
     "name": "stdout",
     "output_type": "stream",
     "text": [
      "tensor(3.7277, grad_fn=<DivBackward0>)\n",
      "Iteration 4: Accepted rate: 0.5\n",
      "Run Number: 19\n",
      "\n",
      "\n"
     ]
    },
    {
     "name": "stderr",
     "output_type": "stream",
     "text": [
      " 67%|██████▋   | 80/120 [02:18<01:03,  1.60s/it]"
     ]
    },
    {
     "name": "stdout",
     "output_type": "stream",
     "text": [
      "tensor(2.1577, grad_fn=<DivBackward0>)\n",
      "Iteration 4: Accepted rate: 0.7428571428571429\n",
      "Run Number: 20\n",
      "\n",
      "\n"
     ]
    },
    {
     "name": "stderr",
     "output_type": "stream",
     "text": [
      " 70%|███████   | 84/120 [02:24<00:57,  1.60s/it]"
     ]
    },
    {
     "name": "stdout",
     "output_type": "stream",
     "text": [
      "tensor(1.0137, grad_fn=<DivBackward0>)\n",
      "Iteration 4: Accepted rate: 0.6285714285714286\n",
      "Run Number: 21\n",
      "\n",
      "\n"
     ]
    },
    {
     "name": "stderr",
     "output_type": "stream",
     "text": [
      " 72%|███████▎  | 87/120 [02:29<00:47,  1.44s/it]"
     ]
    },
    {
     "name": "stdout",
     "output_type": "stream",
     "text": [
      "tensor(4.8971, grad_fn=<DivBackward0>)\n"
     ]
    },
    {
     "name": "stderr",
     "output_type": "stream",
     "text": [
      " 73%|███████▎  | 88/120 [02:34<01:19,  2.50s/it]"
     ]
    },
    {
     "name": "stdout",
     "output_type": "stream",
     "text": [
      "Iteration 4: Accepted rate: 0.45714285714285713\n",
      "Run Number: 22\n",
      "\n",
      "\n"
     ]
    },
    {
     "name": "stderr",
     "output_type": "stream",
     "text": [
      " 76%|███████▌  | 91/120 [02:39<00:57,  1.98s/it]"
     ]
    },
    {
     "name": "stdout",
     "output_type": "stream",
     "text": [
      "tensor(4.4202, grad_fn=<DivBackward0>)\n"
     ]
    },
    {
     "name": "stderr",
     "output_type": "stream",
     "text": [
      " 77%|███████▋  | 92/120 [02:41<00:58,  2.08s/it]"
     ]
    },
    {
     "name": "stdout",
     "output_type": "stream",
     "text": [
      "Iteration 4: Accepted rate: 0.4523809523809524\n",
      "Run Number: 23\n",
      "\n",
      "\n"
     ]
    },
    {
     "name": "stderr",
     "output_type": "stream",
     "text": [
      " 80%|████████  | 96/120 [02:49<00:48,  2.04s/it]"
     ]
    },
    {
     "name": "stdout",
     "output_type": "stream",
     "text": [
      "tensor(1.8373, grad_fn=<DivBackward0>)\n",
      "Iteration 4: Accepted rate: 0.7142857142857143\n",
      "Run Number: 24\n",
      "\n",
      "\n"
     ]
    },
    {
     "name": "stderr",
     "output_type": "stream",
     "text": [
      " 83%|████████▎ | 100/120 [02:55<00:32,  1.62s/it]"
     ]
    },
    {
     "name": "stdout",
     "output_type": "stream",
     "text": [
      "tensor(2.7619, grad_fn=<DivBackward0>)\n",
      "Iteration 4: Accepted rate: 0.6\n",
      "Run Number: 25\n",
      "\n",
      "\n"
     ]
    },
    {
     "name": "stderr",
     "output_type": "stream",
     "text": [
      " 87%|████████▋ | 104/120 [03:02<00:29,  1.86s/it]"
     ]
    },
    {
     "name": "stdout",
     "output_type": "stream",
     "text": [
      "tensor(3.1651, grad_fn=<DivBackward0>)\n",
      "Iteration 4: Accepted rate: 0.42857142857142855\n",
      "Run Number: 26\n",
      "\n",
      "\n"
     ]
    },
    {
     "name": "stderr",
     "output_type": "stream",
     "text": [
      " 90%|█████████ | 108/120 [03:08<00:19,  1.62s/it]"
     ]
    },
    {
     "name": "stdout",
     "output_type": "stream",
     "text": [
      "tensor(2.5699, grad_fn=<DivBackward0>)\n",
      "Iteration 4: Accepted rate: 0.6285714285714286\n",
      "Run Number: 27\n",
      "\n",
      "\n"
     ]
    },
    {
     "name": "stderr",
     "output_type": "stream",
     "text": [
      " 93%|█████████▎| 112/120 [03:15<00:12,  1.57s/it]"
     ]
    },
    {
     "name": "stdout",
     "output_type": "stream",
     "text": [
      "tensor(0.8530, grad_fn=<DivBackward0>)\n",
      "Iteration 4: Accepted rate: 0.8571428571428571\n",
      "Run Number: 28\n",
      "\n",
      "\n"
     ]
    },
    {
     "name": "stderr",
     "output_type": "stream",
     "text": [
      " 97%|█████████▋| 116/120 [03:21<00:07,  1.80s/it]"
     ]
    },
    {
     "name": "stdout",
     "output_type": "stream",
     "text": [
      "tensor(3.2683, grad_fn=<DivBackward0>)\n",
      "Iteration 4: Accepted rate: 0.5510204081632653\n",
      "Run Number: 29\n",
      "\n",
      "\n"
     ]
    },
    {
     "name": "stderr",
     "output_type": "stream",
     "text": [
      "100%|██████████| 120/120 [03:27<00:00,  1.73s/it]"
     ]
    },
    {
     "name": "stdout",
     "output_type": "stream",
     "text": [
      "tensor(2.9941, grad_fn=<DivBackward0>)\n",
      "Iteration 4: Accepted rate: 0.8214285714285714\n",
      "Run Number: 30\n",
      "\n",
      "\n"
     ]
    },
    {
     "name": "stderr",
     "output_type": "stream",
     "text": [
      "\n"
     ]
    }
   ],
   "source": [
    "# training\n",
    "online_decoder = OnlineSpeculativeDecoder()\n",
    "translation = online_decoder.translate_dataset(english_sentences)"
   ]
  },
  {
   "cell_type": "code",
   "execution_count": 78,
   "metadata": {},
   "outputs": [
    {
     "data": {
      "text/plain": [
       "<matplotlib.legend.Legend at 0x7fde65c48f40>"
      ]
     },
     "execution_count": 78,
     "metadata": {},
     "output_type": "execute_result"
    },
    {
     "data": {
      "image/png": "[encoded data removed]",
      "text/plain": [
       "<Figure size 640x480 with 1 Axes>"
      ]
     },
     "metadata": {},
     "output_type": "display_data"
    }
   ],
   "source": [
    "first = online_decoder.acceptance_rate[:60]\n",
    "last = online_decoder.acceptance_rate[-60:]\n",
    "\n",
    "\n",
    "\n",
    "import matplotlib.pyplot as plt\n",
    "\n",
    "plt.plot(first)\n",
    "plt.plot(last)\n",
    "plt.legend([\"First 20 sentences\", \"Last 20 sentences\"])\n"
   ]
  },
  {
   "cell_type": "code",
   "execution_count": 79,
   "metadata": {},
   "outputs": [
    {
     "data": {
      "text/plain": [
       "<matplotlib.legend.Legend at 0x7fde588f1f90>"
      ]
     },
     "execution_count": 79,
     "metadata": {},
     "output_type": "execute_result"
    },
    {
     "data": {
      "image/png": "[encoded data removed]",
      "text/plain": [
       "<Figure size 640x480 with 1 Axes>"
      ]
     },
     "metadata": {},
     "output_type": "display_data"
    }
   ],
   "source": [
    "first = online_decoder.losses[:15]\n",
    "last = online_decoder.losses[-15:]\n",
    "\n",
    "\n",
    "\n",
    "import matplotlib.pyplot as plt\n",
    "\n",
    "plt.plot(first)\n",
    "plt.plot(last)\n",
    "plt.legend([\"First 10 sentences\", \"Last 10 sentences\"])\n"
   ]
  },
  {
   "cell_type": "code",
   "execution_count": null,
   "metadata": {},
   "outputs": [],
   "source": []
  },
  {
   "cell_type": "code",
   "execution_count": 80,
   "metadata": {},
   "outputs": [
    {
     "name": "stdout",
     "output_type": "stream",
     "text": [
      "0.625656215477644\n",
      "0.632272211915069\n",
      "2.716616694132487\n",
      "2.7954227328300476\n"
     ]
    }
   ],
   "source": [
    "import statistics\n",
    "\n",
    "print(statistics.mean(online_decoder.acceptance_rate[:60]))\n",
    "print(statistics.mean(online_decoder.acceptance_rate[-60:]))\n",
    "\n",
    "print(statistics.mean(online_decoder.losses[:15]))\n",
    "print(statistics.mean(online_decoder.losses[-15:]))"
   ]
  },
  {
   "cell_type": "code",
   "execution_count": null,
   "metadata": {},
   "outputs": [],
   "source": []
  }
 ],
 "metadata": {
  "kernelspec": {
   "display_name": "ml",
   "language": "python",
   "name": "python3"
  },
  "language_info": {
   "codemirror_mode": {
    "name": "ipython",
    "version": 3
   },
   "file_extension": ".py",
   "mimetype": "text/x-python",
   "name": "python",
   "nbconvert_exporter": "python",
   "pygments_lexer": "ipython3",
   "version": "3.10.14"
  }
 },
 "nbformat": 4,
 "nbformat_minor": 2
}
